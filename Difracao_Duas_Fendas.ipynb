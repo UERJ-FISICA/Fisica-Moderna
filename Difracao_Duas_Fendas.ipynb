{
  "nbformat": 4,
  "nbformat_minor": 0,
  "metadata": {
    "colab": {
      "name": "Difracao_Duas_Fendas.ipynb",
      "provenance": [],
      "collapsed_sections": [],
      "authorship_tag": "ABX9TyNcNRfFBos6KbD5j/B7uIeP",
      "include_colab_link": true
    },
    "kernelspec": {
      "name": "python3",
      "display_name": "Python 3"
    },
    "language_info": {
      "name": "python"
    }
  },
  "cells": [
    {
      "cell_type": "markdown",
      "metadata": {
        "id": "view-in-github",
        "colab_type": "text"
      },
      "source": [
        "<a href=\"https://colab.research.google.com/github/UERJ-FISICA/Fisica-Moderna/blob/main/Difracao_Duas_Fendas.ipynb\" target=\"_parent\"><img src=\"https://colab.research.google.com/assets/colab-badge.svg\" alt=\"Open In Colab\"/></a>"
      ]
    },
    {
      "cell_type": "code",
      "metadata": {
        "id": "v-Ih7uTBYH0x"
      },
      "source": [
        "import numpy as np\n",
        "import matplotlib.pyplot as plt"
      ],
      "execution_count": 1,
      "outputs": []
    },
    {
      "cell_type": "code",
      "metadata": {
        "id": "oVOnXvV7YSi0"
      },
      "source": [
        "# cm\n",
        "D = 150.\n",
        "a = 0.0050\n",
        "d = 0.0200\n",
        "slit_positions = [ -d/2, d/2 ]\n",
        "lambda_red = 632.8 * 1e-07\n",
        "y_min = -5.\n",
        "y_max =  5.\n",
        "draw_slits = True\n",
        "save_figures = False"
      ],
      "execution_count": 2,
      "outputs": []
    },
    {
      "cell_type": "code",
      "metadata": {
        "colab": {
          "base_uri": "https://localhost:8080/",
          "height": 566
        },
        "id": "wj_vauIjZDpb",
        "outputId": "08b9f27e-a43d-46c0-c34f-d3deae78ffe4"
      },
      "source": [
        "fig = plt.figure( figsize=(1.5*10,8) )\n",
        "# fig.subplots_adjust(left=0, bottom=0, right=1, top=1, wspace=None, hspace=None)\n",
        "fig.subplots_adjust(left=0.05, bottom=0.05, right=0.95, top=0.95, wspace=None, hspace=None)\n",
        "from mpl_toolkits.axes_grid1 import make_axes_locatable\n",
        "ax_ = plt.gca()\n",
        "divider_ = make_axes_locatable( ax_ )\n",
        "sub_ax_ = divider_.append_axes( \"right\", size=\"50%\", pad=0. )\n",
        "ax_.set_xlim( -2., D )\n",
        "ax_.set_ylim( y_min, y_max )\n",
        "# ax_.set_xticks( [] )\n",
        "ax_.set_yticks( [] )\n",
        "sub_ax_.set_xlim( 0., 1. )\n",
        "sub_ax_.set_ylim( y_min, y_max )\n",
        "sub_ax_.set_xticks( [] )\n",
        "# sub_ax_.set_yticks( [] )\n",
        "\n",
        "ax_.plot( [0.,D], [0.,0.], 'k', linestyle='dashed', linewidth=0.5 )\n",
        "ax_.plot( [0.,0.], [y_min,y_max], 'k', linestyle='solid', linewidth=1. )\n",
        "for pos_ in slit_positions:\n",
        "    ax_.plot( [0.,0.], [(pos_ - a/2),(pos_ + a/2)], color='tab:red', linewidth=3. )\n",
        "sub_ax_.plot( [0.,1.], [0.,0.], 'k', linestyle='dashed', linewidth=0.5 )\n",
        "\n",
        "line_slits = [ None ] * len( slit_positions )\n",
        "if draw_slits:\n",
        "    ax_.plot( [-0.5,1.,1.,-0.5,-0.5], [-0.1,-0.1,0.1,0.1,-0.1], 'k-', linewidth=1. )\n",
        "    from mpl_toolkits.axes_grid1.inset_locator import inset_axes\n",
        "    ax_inset_ = inset_axes(ax_, width=\"30%\", height=\"30%\", loc=2, borderpad=2)\n",
        "    ax_inset_.tick_params(labelleft=False, labelbottom=False)\n",
        "    ax_inset_.set_xlim( -0.5, 1. )\n",
        "    ax_inset_.set_ylim( -0.1, 0.1 )\n",
        "    ax_inset_.plot( [-0.5,1.], [0.,0.], 'k', linestyle='dashed', linewidth=0.5 )\n",
        "    ax_inset_.plot( [0.,0.], [-0.1,0.1], 'k-', linewidth=1. )\n",
        "    for idx_, pos_ in enumerate( slit_positions ):\n",
        "        line_slits[ idx_ ], = ax_inset_.plot( [0.,0.], [(pos_ - a/2),(pos_ + a/2)], color=\"tab:red\", linewidth=3. )\n",
        "\n",
        "y_pos_ = np.linspace( y_min, y_max, 1000 )\n",
        "E_over_E0_X_ = 0.\n",
        "E_over_E0_Y_ = 0.\n",
        "for pos_ in slit_positions:\n",
        "    # Secondary spherical waves along slit \n",
        "    start__ = ( pos_ - a/2 )\n",
        "    end__ = ( pos_ + a/2 )\n",
        "    n__ = 100\n",
        "    delta_a__ = ( end__ - start__ ) / n__\n",
        "    source_pos__ = np.linspace( start__, end__, n__ )[:-1] + delta_a__/2\n",
        "    # print (source_pos__)\n",
        "    # print (source_pos__.size)\n",
        "    l_ref__ = D\n",
        "    size__ = source_pos__.size\n",
        "    for pos__ in source_pos__:\n",
        "        l__ = np.sqrt( ( y_pos_ - pos__ ) ** 2 + D ** 2 )\n",
        "        phi__ = 2 * np.pi * ( l__ - l_ref__ ) / lambda_red\n",
        "        E_over_E0_X_ += np.cos( phi__ ) / size__\n",
        "        E_over_E0_Y_ += np.sin( phi__ ) / size__\n",
        "\n",
        "I_over_I0_ = ( E_over_E0_X_ ** 2 + E_over_E0_Y_ ** 2 ) / ( len( slit_positions ) ** 2 )\n",
        "\n",
        "line_plot, = sub_ax_.plot( I_over_I0_, y_pos_, color='darkblue', linestyle='solid', linewidth=1 )\n",
        "\n",
        "y_minima_ = D * ( lambda_red / a ) / np.sqrt( 1. - ( lambda_red / a ) ** 2 )\n",
        "line_max_0, = sub_ax_.plot( [0.,1.], [y_minima_,y_minima_], color='tab:red', linestyle='dashed', linewidth=1 )\n",
        "line_max_1, = sub_ax_.plot( [0.,1.], [-y_minima_,-y_minima_], color='tab:red', linestyle='dashed', linewidth=1 )\n",
        "text_a = ax_.text( 0.70, 0.90, r'$\\rm{{a}} = {:.3f}\\,\\rm{{cm}}$'.format( a ), transform=ax_.transAxes, fontsize=16 )\n",
        "d_ = ( slit_positions[1] - slit_positions[0] )\n",
        "text_d = ax_.text( 0.70, 0.85, r'$\\rm{{d}} = {:.3f}\\,\\rm{{cm}}$'.format( d_ ), transform=ax_.transAxes, fontsize=16 )\n",
        "text_D = ax_.text( 0.70, 0.80, r'$\\rm{{D}} = {:.1f}\\,\\rm{{cm}}$'.format( D ), transform=ax_.transAxes, fontsize=16 )\n",
        "if save_figures:\n",
        "    label_ = \"fig_Difracao_Duas_Fendas_{:.4f}_{:.4f}\".format( a, d_ )\n",
        "    # print ( label_ )\n",
        "    plt.savefig( label_ + \".pdf\", bbox_inches='tight' )\n",
        "    plt.savefig( label_ + \".png\", bbox_inches='tight' )"
      ],
      "execution_count": 3,
      "outputs": [
        {
          "output_type": "display_data",
          "data": {
            "image/png": "[encoded data removed]",
            "text/plain": [
              "<Figure size 1080x576 with 3 Axes>"
            ]
          },
          "metadata": {
            "needs_background": "light"
          }
        }
      ]
    },
    {
      "cell_type": "code",
      "metadata": {
        "colab": {
          "base_uri": "https://localhost:8080/"
        },
        "id": "_fkJD1kdbmBf",
        "outputId": "4f3cdcaf-3cd5-4e65-c2ab-25f4d6a670f6"
      },
      "source": [
        "import os\n",
        "os.listdir()"
      ],
      "execution_count": 4,
      "outputs": [
        {
          "output_type": "execute_result",
          "data": {
            "text/plain": [
              "['.config', 'sample_data']"
            ]
          },
          "metadata": {},
          "execution_count": 4
        }
      ]
    },
    {
      "cell_type": "code",
      "metadata": {
        "id": "gZ-gS27efLPy"
      },
      "source": [
        "# !zip figs_Difracao_Duas_Fendas.zip fig_Difracao_Duas_Fendas*\n",
        "# from google.colab import files\n",
        "# files.download( \"figs_Difracao_Duas_Fendas.zip\" )"
      ],
      "execution_count": 5,
      "outputs": []
    },
    {
      "cell_type": "code",
      "metadata": {
        "id": "CN5DUfgjfY0n"
      },
      "source": [
        ""
      ],
      "execution_count": 5,
      "outputs": []
    }
  ]
}