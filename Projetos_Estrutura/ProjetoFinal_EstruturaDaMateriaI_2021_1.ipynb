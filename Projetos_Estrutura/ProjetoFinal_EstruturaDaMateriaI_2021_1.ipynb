{
  "nbformat": 4,
  "nbformat_minor": 0,
  "metadata": {
    "colab": {
      "name": "ProjetoFinal_EstruturaDaMateriaI_2021_1.ipynb",
      "provenance": [],
      "collapsed_sections": [],
      "mount_file_id": "1T1p72o_sQN6wlo4cgz7QkRKff_-ig0n_",
      "authorship_tag": "ABX9TyPcHhXMvHlq13ZvQj8Ib6q0",
      "include_colab_link": true
    },
    "kernelspec": {
      "name": "python3",
      "display_name": "Python 3"
    },
    "language_info": {
      "name": "python"
    }
  },
  "cells": [
    {
      "cell_type": "markdown",
      "metadata": {
        "id": "view-in-github",
        "colab_type": "text"
      },
      "source": [
        "<a href=\"https://colab.research.google.com/github/UERJ-FISICA/Fisica-Moderna/blob/main/Projetos_Estrutura/ProjetoFinal_EstruturaDaMateriaI_2021_1.ipynb\" target=\"_parent\"><img src=\"https://colab.research.google.com/assets/colab-badge.svg\" alt=\"Open In Colab\"/></a>"
      ]
    },
    {
      "cell_type": "markdown",
      "metadata": {
        "id": "XREBrTGqPSMe"
      },
      "source": [
        "# Projeto Final : Cinemática de colisões relativísticas \n",
        "\n",
        "Este projeto está baseado no artigo  [\"Introduction to Relativistic Collisions\"](https://arxiv.org/pdf/1011.1943.pdf) de Frank W. K. Firk.\n",
        "\n",
        "\n",
        "## Introdução\n",
        "A cinemática relativística é necessária para estudar colisões de partículas a altas energias. De acordo com a relatividade restrita, a quantidade invariante é o ___produto tensorial dos quadrimomentos___:\n",
        "\n",
        "$P_{\\mu} P^{\\mu} =\\dfrac{E^2}{c^2}- {p_x}^2 - {p_y}^2 -  {p_z}^2 =  (m c)^2$. \n",
        " \n",
        "Isto significa que a energia em repouso de uma partícula relativística é conservada :\n",
        "\n",
        "$(E_o)^2 = c^2 P_{\\mu} P^{\\mu} = E^2 - {|\\vec{p}|}^2 c^2 = m^2c^4$\n",
        "\n",
        "Isto também ocorre com a energia-momento de um sistema, onde a soma dos 4-\n",
        "momentos iniciais precisa ser igual à soma dos 4-momentos finais, e os produtos escalares invariantes inicial e final também.\n",
        "\n",
        "<img src=\"https://github.com/UERJ-FISICA/Fisica-Moderna/blob/main/Projetos_Estrutura/pics/colisao.png?raw=1\" width=500/>\n",
        "\n",
        "\n",
        "\n",
        "\n",
        "\n"
      ]
    },
    {
      "cell_type": "markdown",
      "metadata": {
        "id": "btH9p-TqXT1P"
      },
      "source": [
        "De acordo com [(Firk, 2010)](https://arxiv.org/pdf/1011.1943.pdf), eq. (22), a equação mais geral para essa conservação no referencial do laboratório, onde a partícula 2 está em repouso, é :\n",
        "\n",
        "$({E^o}_1 )^2 - 2{({E_1} {E_3} - {c^2} {p_1} {p_3} \\cos{\\theta})} + ({E^o}_3)^2 $\n",
        "$ = ({E^o}_4 )^2 - ({E^o}_2 )^2 - 2 {E^o}_2 ({E_1}- {E_3})$\n",
        "\n",
        "Onde ${E^o}_i$ é a energia em repouso da partícula $i$. As partículas 1 e 2 são aquelas antes da colisão e as partículas 3 e 4 são aquelas depois da colisão, como mostra a figura acima.\n",
        "\n",
        "Ao aplicar esta relação no espalhamento de Compton, onde um fóton colide elasticamente com um elétron, mudando a direção do fóton e dando momentum ao elétron, obtemos:\n",
        "\n",
        "$E_{f1} − E_{f2} = E_{f1} E_{f2} \\dfrac{(1 − \\cos{\\theta})}{{E^o}_e}$\n",
        "\n",
        "Onde ${f}_i$ denota os fótons: o fóton 1 é o incidente, que colide com o elétron em repouso, e o fóton 2  é aquele espalhado no ângulo $\\theta$ após a colisão.\n",
        "\n",
        "<img src=\"https://github.com/UERJ-FISICA/Fisica-Moderna/blob/main/Projetos_Estrutura/pics/compton.png?raw=1\" width=500/>\n",
        "\n",
        "O fóton a pesar de não ter massa, tem energia e momentum relativísticos de tal forma que $ E^2 = h^2 \\nu^2 = |\\vec{p}|^2 c^2 $, a direção do vetor $\\vec{p}$ indica a direção de espalhamento do fóton.\n"
      ]
    },
    {
      "cell_type": "markdown",
      "metadata": {
        "id": "GKvlj2JoljN4"
      },
      "source": [
        "## Parte 1\n",
        "\n",
        "\n",
        "Imagine um experimento em que fótons de uma energia fixa (monocromático, (${E_f}_1$ fixo)) colidem com életrons en repouso. \n",
        "\n",
        "  __A__. Qual o ângulo de espalhamento do fóton 2 $\\theta$ ? Existe alguma dependencia com outra variável?\n",
        "\n",
        "\n"
      ]
    },
    {
      "cell_type": "code",
      "metadata": {
        "id": "HEKEk7qpPNHo"
      },
      "source": [
        "import math\n",
        "import matplotlib.pyplot as plt\n",
        "import numpy as np\n",
        "\n",
        "## Massa em repouso do életron\n",
        "m_e = 0.51099895000 ### em unidades MeV/c**2 --> usamos unidades naturais c=1=h\n",
        "E_e_0 = m_e         ### em unidades MeV # = m_e*c**2. \n",
        "\n",
        "def theta(ef2,ef1,ee=E_e_0):\n",
        "     if (ef2>ef1):\n",
        "       print(\"O fóton tem que perder energia, ef2 <= ef1\")\n",
        "       return 0\n",
        "     else:\n",
        "       f = ###************** preencher de acordo a equação acima ####  ********************\n",
        "       if (f<0 or  f>2): ##o coseno vai de -1 a 1\n",
        "         return 0 \n",
        "       return math.acos(1.0-f)\n",
        "\n",
        "\n",
        "E_f1 = 10.0 ## um valor de 10 MeV \n",
        "\n",
        "### Array com valores variados de e2f entre 0.3 e 10 MeV, neste exemplo, em intervalos de 0.1 MeV\n",
        "e2s = np.linspace(0.3,E_f1,98)\n",
        "\n",
        "### Podemos cambiar o valor de E_f1 e os valores possíveis dos fótons espalhados: e2s \n",
        "\n",
        "\n",
        "### Fazer um array de valores de theta em base ao anterior\n",
        "thetas = np.array([180.*theta(e2,E_f1)/math.pi for  e2 in e2s]) ## aqui foi convertido a graus\n",
        "plt.plot(e2s,thetas)\n",
        "plt.ylabel(\"ângulo [$^\\circ$]\")\n",
        "plt.xlabel(\"PREENCHER COM NOME E UNIDADE DA VARIAVEL\")\n",
        "plt.show()"
      ],
      "execution_count": null,
      "outputs": []
    },
    {
      "cell_type": "markdown",
      "metadata": {
        "id": "ndGgK_cuYEDu"
      },
      "source": [
        " __B__. Qual o ângulo (em relação a direção inicial do fóton) e momentum do életron ejetado? Utilize conservação de energia-momentum, i.e. $P^\\mu_1+P^\\mu_2 = P^\\mu_3+P^\\mu_4$, e considere $E_2=E_e^0=m_e c^2$ ou seja eletron inicialmente está em repouso no referencial de laboratório.\n",
        "\n",
        "\n"
      ]
    },
    {
      "cell_type": "code",
      "metadata": {
        "id": "qoeN4GxpWleU"
      },
      "source": [
        "#### RESOLVER para achar o ângulo  e 4-momentum do eletron final (E_4 e p_4)\n",
        "def E_4(ef1,ef2,ee=E_e_0):\n",
        "  return   ############************* resolver  e preencher com base na conservação de energia\n",
        " \n",
        "\n",
        "### ASSUMIMOS que a colisão ocorre no plano x-y e que os fotons sem massa tem |p|=E/c\n",
        "def p_f_x(ef, theta):\n",
        "    p_f_x = ef * math.cos(theta) \n",
        "    return p_f_x  \n",
        "\n",
        "def p_f_y(ef, theta):                        \n",
        "    p_f_y = ef * math.sin(theta)\n",
        "    return p_f_y\n",
        "\n",
        "\n",
        "def q_4_e(e2s,ef1):\n",
        "  ## esta função toma um unico valor de ef1 e o array de valores de ef2 : e2s\n",
        "  p_f1_y = np.zeros(np.shape(e2s))\n",
        "  p_f1_x = np.full(np.shape(e2s),ef1)\n",
        "\n",
        "  p_f2_x = np.array([p_f_x(e2,theta(e2,ef1)) for e2 in e2s])\n",
        "  p_f2_y = np.array([p_f_y(e2,theta(e2,ef1)) for e2 in e2s])\n",
        " \n",
        "  #utiliza a função definida acima\n",
        "  e_4 = np.array([E_4(ef1,e2) for e2 in e2s]) \n",
        "\n",
        "  p_4_x  = ######************** resolver  e preencher em base a conservação de momentum \n",
        "  p_4_y  = ######************** resolver  e preencher em base a conservação de momentum\n",
        "\n",
        "  p_4 = np.sqrt(p_4_x**2 + p_4_y**2)\n",
        "  phi = 180*np.arctan2(p_4_y,p_4_x)/math.pi\n",
        "  return p_4,phi,e_4\n",
        "\n",
        "p_4,phi,e_4 = q_4_e(e2s,E_f1) \n",
        "\n",
        "\n",
        "plt.scatter(thetas[:-1],phi[:-1])\n",
        "plt.ylabel(\"ângulo do fóton $\\\\theta$ [$^\\circ$]\")\n",
        "plt.xlabel(\"ângulo do elétron $\\phi$[$^\\circ$]\")\n",
        "plt.show()\n",
        "plt.scatter(e2s,phi,label=\"$\\phi$ = ângulo do életron\")\n",
        "plt.scatter(e2s,thetas,label=\"$\\\\theta$ = ângulo de espalhamento do $\\gamma$\")\n",
        "plt.legend()\n",
        "plt.show()\n",
        "plt.scatter(e_4[:-1],e2s[:-1],c=phi[:-1])\n"
      ],
      "execution_count": null,
      "outputs": []
    },
    {
      "cell_type": "markdown",
      "metadata": {
        "id": "7PeQnso_YGAV"
      },
      "source": [
        "  __C__. Se variarmos a energia dos fótons incidentes, e detectarmos os életrons espalhados em todas direções, qual seria a relação entre a energia do fóton incidente e o momentum do életron ejetado?  Podemos considerar que os fótons são emitidos com energias aleatórias (mas conhecidas) na faixa dos raios-X  :  $ {E_f}_1 \\in [0.3 , 10]$ MeV. Pode utilizar várias funções de distribuição como por exemplo uniforme, gaussiana ou exponencial.\n",
        "\n",
        "\n"
      ]
    },
    {
      "cell_type": "code",
      "metadata": {
        "id": "kF08pTT1YtWz"
      },
      "source": [
        "### fazer um \"gerador aleatorio\" de energias incidentes, \n",
        "### e para cada ef1 gerar aleatoriamente a energia  do foton espalhado \n",
        "###  e em base a ef1 e ef2 obter a cinematica do elétron\n",
        "\n",
        "e1s = np.random.uniform(0.25,10,100)\n",
        "\n",
        "for e1 in e1s:\n",
        "  e2s = np.random.uniform(0.25,e1,100)\n",
        "  thets = np.array([180.*theta(ef2=e2,ef1=e1)/math.pi for  e2 in e2s])\n",
        "  p_4,phi,e_4 = q_4_e(e2s,e1)\n",
        "\n",
        "  p_e_mean.append(p_4.mean())\n",
        "  e_e_mean.append(e_4.mean())\n",
        "  phi_e_mean.append(phi.mean())\n",
        "  \n",
        "\n",
        "plt.scatter(e1s,phi_e_mean,c=p_e_mean,cmap=\"rainbow\")\n",
        "\n",
        "  \n",
        "### Utilizar outras distribuições aleatórias, muda a relação?\n",
        "\n",
        "\n"
      ],
      "execution_count": null,
      "outputs": []
    },
    {
      "cell_type": "markdown",
      "metadata": {
        "id": "f_sIAiueQ-P3"
      },
      "source": [
        "### Outras referências:\n",
        "   * http://demonstrations.wolfram.com/ComptonEffect/\n",
        "   * http://demonstrations.wolfram.com/ComptonScatteringAngle/\n"
      ]
    }
  ]
}
