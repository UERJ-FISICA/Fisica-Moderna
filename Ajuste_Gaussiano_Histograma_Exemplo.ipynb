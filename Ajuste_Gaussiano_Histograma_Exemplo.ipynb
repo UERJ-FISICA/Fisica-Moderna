{
  "nbformat": 4,
  "nbformat_minor": 0,
  "metadata": {
    "colab": {
      "name": "Ajuste-Gaussiano-Histograma-Exemplo.ipynb",
      "provenance": [],
      "authorship_tag": "ABX9TyMfT9EdkFuWlXIns/5qKdJh",
      "include_colab_link": true
    },
    "kernelspec": {
      "name": "python3",
      "display_name": "Python 3"
    },
    "language_info": {
      "name": "python"
    }
  },
  "cells": [
    {
      "cell_type": "markdown",
      "metadata": {
        "id": "view-in-github",
        "colab_type": "text"
      },
      "source": [
        "<a href=\"https://colab.research.google.com/github/UERJ-FISICA/Fisica-Moderna/blob/main/Ajuste_Gaussiano_Histograma_Exemplo.ipynb\" target=\"_parent\"><img src=\"https://colab.research.google.com/assets/colab-badge.svg\" alt=\"Open In Colab\"/></a>"
      ]
    },
    {
      "cell_type": "code",
      "metadata": {
        "id": "-MG8k90sO8bF"
      },
      "source": [
        "import numpy as np\n",
        "import pandas as pd\n",
        "import matplotlib as mpl\n",
        "import matplotlib.pyplot as plt\n",
        "mpl.rcParams.update(\n",
        "    {'font.size': 18,\n",
        "     'font.family': 'sans-serif',\n",
        "     'legend.fontsize': 14,\n",
        "     'axes.labelsize': 18,\n",
        "     'xtick.labelsize': 14,\n",
        "     'ytick.labelsize': 14\n",
        "    }\n",
        "    )"
      ],
      "execution_count": null,
      "outputs": []
    },
    {
      "cell_type": "markdown",
      "metadata": {
        "id": "tGIBWRgqPnAa"
      },
      "source": [
        "Dados Gaussianos (exemplo)"
      ]
    },
    {
      "cell_type": "code",
      "metadata": {
        "colab": {
          "base_uri": "https://localhost:8080/"
        },
        "id": "f2mMOGGWYZgd",
        "outputId": "8bbede1c-7924-44fa-e1d2-7b6a43b533c1"
      },
      "source": [
        "!curl -o dados_gaussianos_exemplo.dat https://raw.githubusercontent.com/UERJ-FISICA/Fisica-Moderna/main/dados/dados_gaussianos_exemplo.dat"
      ],
      "execution_count": null,
      "outputs": [
        {
          "output_type": "stream",
          "name": "stdout",
          "text": [
            "  % Total    % Received % Xferd  Average Speed   Time    Time     Time  Current\n",
            "                                 Dload  Upload   Total   Spent    Left  Speed\n",
            "\r  0     0    0     0    0     0      0      0 --:--:-- --:--:-- --:--:--     0\r100   176  100   176    0     0   2550      0 --:--:-- --:--:-- --:--:--  2550\n"
          ]
        }
      ]
    },
    {
      "cell_type": "code",
      "metadata": {
        "colab": {
          "base_uri": "https://localhost:8080/"
        },
        "id": "oNt337bLYi8M",
        "outputId": "bf071b52-2e5f-4528-b599-1dc29f2eadf9"
      },
      "source": [
        "!ls -la"
      ],
      "execution_count": null,
      "outputs": [
        {
          "output_type": "stream",
          "name": "stdout",
          "text": [
            "total 24\n",
            "drwxr-xr-x 1 root root 4096 Nov  3 20:01 .\n",
            "drwxr-xr-x 1 root root 4096 Nov  3 19:09 ..\n",
            "drwxr-xr-x 4 root root 4096 Nov  1 13:34 .config\n",
            "-rw-r--r-- 1 root root  176 Nov  3 20:01 dados_gaussianos_exemplo.dat\n",
            "drwxr-xr-x 2 root root 4096 Nov  3 19:59 .ipynb_checkpoints\n",
            "drwxr-xr-x 1 root root 4096 Nov  1 13:35 sample_data\n"
          ]
        }
      ]
    },
    {
      "cell_type": "code",
      "metadata": {
        "colab": {
          "base_uri": "https://localhost:8080/",
          "height": 665
        },
        "id": "WOPDtwIaPDeR",
        "outputId": "55e7d2b4-c729-4a56-f8a8-1dd10cd48c5e"
      },
      "source": [
        "df = pd.read_csv( \"dados_gaussianos_exemplo.dat\", sep=\"\\t\" )\n",
        "df"
      ],
      "execution_count": null,
      "outputs": [
        {
          "output_type": "execute_result",
          "data": {
            "text/html": [
              "<div>\n",
              "<style scoped>\n",
              "    .dataframe tbody tr th:only-of-type {\n",
              "        vertical-align: middle;\n",
              "    }\n",
              "\n",
              "    .dataframe tbody tr th {\n",
              "        vertical-align: top;\n",
              "    }\n",
              "\n",
              "    .dataframe thead th {\n",
              "        text-align: right;\n",
              "    }\n",
              "</style>\n",
              "<table border=\"1\" class=\"dataframe\">\n",
              "  <thead>\n",
              "    <tr style=\"text-align: right;\">\n",
              "      <th></th>\n",
              "      <th>X</th>\n",
              "      <th>Eventos</th>\n",
              "    </tr>\n",
              "  </thead>\n",
              "  <tbody>\n",
              "    <tr>\n",
              "      <th>0</th>\n",
              "      <td>2.5</td>\n",
              "      <td>0</td>\n",
              "    </tr>\n",
              "    <tr>\n",
              "      <th>1</th>\n",
              "      <td>7.5</td>\n",
              "      <td>0</td>\n",
              "    </tr>\n",
              "    <tr>\n",
              "      <th>2</th>\n",
              "      <td>12.5</td>\n",
              "      <td>1</td>\n",
              "    </tr>\n",
              "    <tr>\n",
              "      <th>3</th>\n",
              "      <td>17.5</td>\n",
              "      <td>10</td>\n",
              "    </tr>\n",
              "    <tr>\n",
              "      <th>4</th>\n",
              "      <td>22.5</td>\n",
              "      <td>47</td>\n",
              "    </tr>\n",
              "    <tr>\n",
              "      <th>5</th>\n",
              "      <td>27.5</td>\n",
              "      <td>163</td>\n",
              "    </tr>\n",
              "    <tr>\n",
              "      <th>6</th>\n",
              "      <td>32.5</td>\n",
              "      <td>454</td>\n",
              "    </tr>\n",
              "    <tr>\n",
              "      <th>7</th>\n",
              "      <td>37.5</td>\n",
              "      <td>921</td>\n",
              "    </tr>\n",
              "    <tr>\n",
              "      <th>8</th>\n",
              "      <td>42.5</td>\n",
              "      <td>1477</td>\n",
              "    </tr>\n",
              "    <tr>\n",
              "      <th>9</th>\n",
              "      <td>47.5</td>\n",
              "      <td>1887</td>\n",
              "    </tr>\n",
              "    <tr>\n",
              "      <th>10</th>\n",
              "      <td>52.5</td>\n",
              "      <td>1938</td>\n",
              "    </tr>\n",
              "    <tr>\n",
              "      <th>11</th>\n",
              "      <td>57.5</td>\n",
              "      <td>1456</td>\n",
              "    </tr>\n",
              "    <tr>\n",
              "      <th>12</th>\n",
              "      <td>62.5</td>\n",
              "      <td>929</td>\n",
              "    </tr>\n",
              "    <tr>\n",
              "      <th>13</th>\n",
              "      <td>67.5</td>\n",
              "      <td>457</td>\n",
              "    </tr>\n",
              "    <tr>\n",
              "      <th>14</th>\n",
              "      <td>72.5</td>\n",
              "      <td>184</td>\n",
              "    </tr>\n",
              "    <tr>\n",
              "      <th>15</th>\n",
              "      <td>77.5</td>\n",
              "      <td>56</td>\n",
              "    </tr>\n",
              "    <tr>\n",
              "      <th>16</th>\n",
              "      <td>82.5</td>\n",
              "      <td>19</td>\n",
              "    </tr>\n",
              "    <tr>\n",
              "      <th>17</th>\n",
              "      <td>87.5</td>\n",
              "      <td>1</td>\n",
              "    </tr>\n",
              "    <tr>\n",
              "      <th>18</th>\n",
              "      <td>92.5</td>\n",
              "      <td>0</td>\n",
              "    </tr>\n",
              "    <tr>\n",
              "      <th>19</th>\n",
              "      <td>97.5</td>\n",
              "      <td>0</td>\n",
              "    </tr>\n",
              "  </tbody>\n",
              "</table>\n",
              "</div>"
            ],
            "text/plain": [
              "       X  Eventos\n",
              "0    2.5        0\n",
              "1    7.5        0\n",
              "2   12.5        1\n",
              "3   17.5       10\n",
              "4   22.5       47\n",
              "5   27.5      163\n",
              "6   32.5      454\n",
              "7   37.5      921\n",
              "8   42.5     1477\n",
              "9   47.5     1887\n",
              "10  52.5     1938\n",
              "11  57.5     1456\n",
              "12  62.5      929\n",
              "13  67.5      457\n",
              "14  72.5      184\n",
              "15  77.5       56\n",
              "16  82.5       19\n",
              "17  87.5        1\n",
              "18  92.5        0\n",
              "19  97.5        0"
            ]
          },
          "metadata": {},
          "execution_count": 4
        }
      ]
    },
    {
      "cell_type": "markdown",
      "metadata": {
        "id": "F_BfUA-KUBnt"
      },
      "source": [
        "Remova as regiões com zero entradas"
      ]
    },
    {
      "cell_type": "code",
      "metadata": {
        "colab": {
          "base_uri": "https://localhost:8080/",
          "height": 542
        },
        "id": "WLsVPuDvUIaZ",
        "outputId": "343fa6e1-c211-4ce6-e3f3-ccd2ca38e3cf"
      },
      "source": [
        "df_cut = df[ df[ \"Eventos\" ] > 0 ]\n",
        "df_cut"
      ],
      "execution_count": null,
      "outputs": [
        {
          "output_type": "execute_result",
          "data": {
            "text/html": [
              "<div>\n",
              "<style scoped>\n",
              "    .dataframe tbody tr th:only-of-type {\n",
              "        vertical-align: middle;\n",
              "    }\n",
              "\n",
              "    .dataframe tbody tr th {\n",
              "        vertical-align: top;\n",
              "    }\n",
              "\n",
              "    .dataframe thead th {\n",
              "        text-align: right;\n",
              "    }\n",
              "</style>\n",
              "<table border=\"1\" class=\"dataframe\">\n",
              "  <thead>\n",
              "    <tr style=\"text-align: right;\">\n",
              "      <th></th>\n",
              "      <th>X</th>\n",
              "      <th>Eventos</th>\n",
              "    </tr>\n",
              "  </thead>\n",
              "  <tbody>\n",
              "    <tr>\n",
              "      <th>2</th>\n",
              "      <td>12.5</td>\n",
              "      <td>1</td>\n",
              "    </tr>\n",
              "    <tr>\n",
              "      <th>3</th>\n",
              "      <td>17.5</td>\n",
              "      <td>10</td>\n",
              "    </tr>\n",
              "    <tr>\n",
              "      <th>4</th>\n",
              "      <td>22.5</td>\n",
              "      <td>47</td>\n",
              "    </tr>\n",
              "    <tr>\n",
              "      <th>5</th>\n",
              "      <td>27.5</td>\n",
              "      <td>163</td>\n",
              "    </tr>\n",
              "    <tr>\n",
              "      <th>6</th>\n",
              "      <td>32.5</td>\n",
              "      <td>454</td>\n",
              "    </tr>\n",
              "    <tr>\n",
              "      <th>7</th>\n",
              "      <td>37.5</td>\n",
              "      <td>921</td>\n",
              "    </tr>\n",
              "    <tr>\n",
              "      <th>8</th>\n",
              "      <td>42.5</td>\n",
              "      <td>1477</td>\n",
              "    </tr>\n",
              "    <tr>\n",
              "      <th>9</th>\n",
              "      <td>47.5</td>\n",
              "      <td>1887</td>\n",
              "    </tr>\n",
              "    <tr>\n",
              "      <th>10</th>\n",
              "      <td>52.5</td>\n",
              "      <td>1938</td>\n",
              "    </tr>\n",
              "    <tr>\n",
              "      <th>11</th>\n",
              "      <td>57.5</td>\n",
              "      <td>1456</td>\n",
              "    </tr>\n",
              "    <tr>\n",
              "      <th>12</th>\n",
              "      <td>62.5</td>\n",
              "      <td>929</td>\n",
              "    </tr>\n",
              "    <tr>\n",
              "      <th>13</th>\n",
              "      <td>67.5</td>\n",
              "      <td>457</td>\n",
              "    </tr>\n",
              "    <tr>\n",
              "      <th>14</th>\n",
              "      <td>72.5</td>\n",
              "      <td>184</td>\n",
              "    </tr>\n",
              "    <tr>\n",
              "      <th>15</th>\n",
              "      <td>77.5</td>\n",
              "      <td>56</td>\n",
              "    </tr>\n",
              "    <tr>\n",
              "      <th>16</th>\n",
              "      <td>82.5</td>\n",
              "      <td>19</td>\n",
              "    </tr>\n",
              "    <tr>\n",
              "      <th>17</th>\n",
              "      <td>87.5</td>\n",
              "      <td>1</td>\n",
              "    </tr>\n",
              "  </tbody>\n",
              "</table>\n",
              "</div>"
            ],
            "text/plain": [
              "       X  Eventos\n",
              "2   12.5        1\n",
              "3   17.5       10\n",
              "4   22.5       47\n",
              "5   27.5      163\n",
              "6   32.5      454\n",
              "7   37.5      921\n",
              "8   42.5     1477\n",
              "9   47.5     1887\n",
              "10  52.5     1938\n",
              "11  57.5     1456\n",
              "12  62.5      929\n",
              "13  67.5      457\n",
              "14  72.5      184\n",
              "15  77.5       56\n",
              "16  82.5       19\n",
              "17  87.5        1"
            ]
          },
          "metadata": {},
          "execution_count": 5
        }
      ]
    },
    {
      "cell_type": "code",
      "metadata": {
        "colab": {
          "base_uri": "https://localhost:8080/",
          "height": 635
        },
        "id": "5BMZbZ77PNrv",
        "outputId": "34ad6454-7ef6-47c8-c5c2-e622444a1ff4"
      },
      "source": [
        "fig = plt.figure( figsize=(12,10) )\n",
        "plt.plot( df_cut[ \"X\" ], df_cut[ \"Eventos\" ], 'ko' )\n",
        "plt.xlabel( \"X\" )\n",
        "plt.ylabel( \"Número de ocorrências\" )"
      ],
      "execution_count": null,
      "outputs": [
        {
          "output_type": "execute_result",
          "data": {
            "text/plain": [
              "Text(0, 0.5, 'Número de ocorrências')"
            ]
          },
          "metadata": {},
          "execution_count": 6
        },
        {
          "output_type": "display_data",
          "data": {
            "image/png": "[encoded data removed]",
            "text/plain": [
              "<Figure size 864x720 with 1 Axes>"
            ]
          },
          "metadata": {
            "needs_background": "light"
          }
        }
      ]
    },
    {
      "cell_type": "markdown",
      "metadata": {
        "id": "UL3k8153QfM-"
      },
      "source": [
        "Adicionando erros para o número de ocorrências, de acordo com uma distribuição de \"Poisson\""
      ]
    },
    {
      "cell_type": "code",
      "metadata": {
        "colab": {
          "base_uri": "https://localhost:8080/"
        },
        "id": "akVyZJLaPYO1",
        "outputId": "89bd8939-2ac4-462e-a3bf-55a950b58110"
      },
      "source": [
        "erros_Y = np.sqrt( df_cut[ \"Eventos\" ] )\n",
        "erros_Y"
      ],
      "execution_count": null,
      "outputs": [
        {
          "output_type": "execute_result",
          "data": {
            "text/plain": [
              "2      1.000000\n",
              "3      3.162278\n",
              "4      6.855655\n",
              "5     12.767145\n",
              "6     21.307276\n",
              "7     30.347982\n",
              "8     38.431758\n",
              "9     43.439613\n",
              "10    44.022721\n",
              "11    38.157568\n",
              "12    30.479501\n",
              "13    21.377558\n",
              "14    13.564660\n",
              "15     7.483315\n",
              "16     4.358899\n",
              "17     1.000000\n",
              "Name: Eventos, dtype: float64"
            ]
          },
          "metadata": {},
          "execution_count": 7
        }
      ]
    },
    {
      "cell_type": "code",
      "metadata": {
        "colab": {
          "base_uri": "https://localhost:8080/",
          "height": 635
        },
        "id": "co1o5cuZRV5i",
        "outputId": "5742946f-1bbd-4c30-cbc4-155afecc96c7"
      },
      "source": [
        "fig = plt.figure( figsize=(12,10) )\n",
        "plt.errorbar( df_cut[ \"X\" ], df_cut[ \"Eventos\" ], yerr=erros_Y, fmt='ko' )\n",
        "plt.xlabel( \"X\" )\n",
        "plt.ylabel( \"Número de ocorrências\" )"
      ],
      "execution_count": null,
      "outputs": [
        {
          "output_type": "execute_result",
          "data": {
            "text/plain": [
              "Text(0, 0.5, 'Número de ocorrências')"
            ]
          },
          "metadata": {},
          "execution_count": 8
        },
        {
          "output_type": "display_data",
          "data": {
            "image/png": "[encoded data removed]",
            "text/plain": [
              "<Figure size 864x720 with 1 Axes>"
            ]
          },
          "metadata": {
            "needs_background": "light"
          }
        }
      ]
    },
    {
      "cell_type": "markdown",
      "metadata": {
        "id": "RJyQ6t8ARqLL"
      },
      "source": [
        "Ajuste Gaussiano com o pacote genérico \"curve_fit\""
      ]
    },
    {
      "cell_type": "code",
      "metadata": {
        "colab": {
          "base_uri": "https://localhost:8080/"
        },
        "id": "z-k0spYyRhWO",
        "outputId": "5c664be6-8a94-4644-f8dc-a02b423f4db5"
      },
      "source": [
        "from scipy.optimize import curve_fit\n",
        "\n",
        "def Gaus(x, A, mean, sigma):\n",
        "    return A * np.exp( -0.5*( (x - mean)/sigma )**2 )\n",
        "\n",
        "# Em uma otimização numérica, os valores iniciais dos parâmetros (A, mean, sigma) devem estar na região esperada para o ajuste \n",
        "p0 = (10., 40., 5.)\n",
        "\n",
        "popt_gaus, pcov_gaus = curve_fit( Gaus, df_cut[ \"X\" ], df_cut[ \"Eventos\" ], sigma=erros_Y, bounds=( [0., -np.inf, 0. ], np.inf ), p0=p0 )\n",
        "\n",
        "print ( popt_gaus ) # Valores otimizados dos parâmetros\n",
        "print ( pcov_gaus ) # Matriz de covariância"
      ],
      "execution_count": null,
      "outputs": [
        {
          "output_type": "stream",
          "name": "stdout",
          "text": [
            "[1955.91926869   50.10456384   10.18954988]\n",
            "[[ 4.10406639e+02 -2.31112036e-02 -7.04680761e-01]\n",
            " [-2.31112036e-02  7.48514796e-03  1.20645855e-04]\n",
            " [-7.04680761e-01  1.20645855e-04  3.67568388e-03]]\n"
          ]
        }
      ]
    },
    {
      "cell_type": "code",
      "metadata": {
        "colab": {
          "base_uri": "https://localhost:8080/",
          "height": 635
        },
        "id": "o_taJWPYS5U9",
        "outputId": "768b6d5f-836b-4f5b-e6e3-acf03329a0f4"
      },
      "source": [
        "fig = plt.figure( figsize=(12,10) )\n",
        "plt.errorbar( df_cut[ \"X\" ], df_cut[ \"Eventos\" ], yerr=erros_Y, fmt='ko' )\n",
        "\n",
        "X_min = df_cut[ \"X\" ].min()\n",
        "X_max = df_cut[ \"X\" ].max()\n",
        "X_plot = np.linspace( X_min, X_max, 100)\n",
        "plt.plot( X_plot, Gaus( X_plot, A=popt_gaus[ 0 ], mean=popt_gaus[ 1 ], sigma=popt_gaus[ 2 ] ), linestyle='dashed', color='tab:red' )\n",
        "\n",
        "plt.xlabel( \"X\" )\n",
        "plt.ylabel( \"Número de ocorrências\" )"
      ],
      "execution_count": null,
      "outputs": [
        {
          "output_type": "execute_result",
          "data": {
            "text/plain": [
              "Text(0, 0.5, 'Número de ocorrências')"
            ]
          },
          "metadata": {},
          "execution_count": 10
        },
        {
          "output_type": "display_data",
          "data": {
            "image/png": "[encoded data removed]",
            "text/plain": [
              "<Figure size 864x720 with 1 Axes>"
            ]
          },
          "metadata": {
            "needs_background": "light"
          }
        }
      ]
    },
    {
      "cell_type": "markdown",
      "metadata": {
        "id": "dv1fIYd_VuuJ"
      },
      "source": [
        "Estimativa dos parâmetros"
      ]
    },
    {
      "cell_type": "code",
      "metadata": {
        "colab": {
          "base_uri": "https://localhost:8080/"
        },
        "id": "Cy-c5jilVEEN",
        "outputId": "ede351b4-9129-4fa2-970d-5c5479151385"
      },
      "source": [
        "print ( popt_gaus )\n",
        "print ( pcov_gaus )\n",
        "print ( \"A = {} ± {}\".format( popt_gaus[ 0 ], np.sqrt( pcov_gaus[ 0, 0 ] ) ) )\n",
        "print ( \"mean = {} ± {}\".format( popt_gaus[ 1 ], np.sqrt( pcov_gaus[ 1, 1 ] ) ) )\n",
        "print ( \"sigma = {} ± {}\".format( popt_gaus[ 2 ], np.sqrt( pcov_gaus[ 2, 2 ] ) ) )"
      ],
      "execution_count": null,
      "outputs": [
        {
          "output_type": "stream",
          "name": "stdout",
          "text": [
            "[1955.91926869   50.10456384   10.18954988]\n",
            "[[ 4.10406639e+02 -2.31112036e-02 -7.04680761e-01]\n",
            " [-2.31112036e-02  7.48514796e-03  1.20645855e-04]\n",
            " [-7.04680761e-01  1.20645855e-04  3.67568388e-03]]\n",
            "A = 1955.9192686898182 ± 20.258495467569496\n",
            "mean = 50.104563844657314 ± 0.08651674961182136\n",
            "sigma = 10.1895498796637 ± 0.0606274185453497\n"
          ]
        }
      ]
    },
    {
      "cell_type": "code",
      "metadata": {
        "id": "xDWK0LaMVzzV"
      },
      "source": [
        ""
      ],
      "execution_count": null,
      "outputs": []
    }
  ]
}