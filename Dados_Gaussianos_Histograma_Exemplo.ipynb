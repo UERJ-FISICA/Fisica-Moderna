{
  "nbformat": 4,
  "nbformat_minor": 0,
  "metadata": {
    "colab": {
      "name": "Dados-Gaussianos-Histograma-Exemplo.ipynb",
      "provenance": [],
      "authorship_tag": "ABX9TyPvJ1m8d0c0chZyPhLq77D4",
      "include_colab_link": true
    },
    "kernelspec": {
      "name": "python3",
      "display_name": "Python 3"
    },
    "language_info": {
      "name": "python"
    }
  },
  "cells": [
    {
      "cell_type": "markdown",
      "metadata": {
        "id": "view-in-github",
        "colab_type": "text"
      },
      "source": [
        "<a href=\"https://colab.research.google.com/github/UERJ-FISICA/Fisica-Moderna/blob/main/Dados_Gaussianos_Histograma_Exemplo.ipynb\" target=\"_parent\"><img src=\"https://colab.research.google.com/assets/colab-badge.svg\" alt=\"Open In Colab\"/></a>"
      ]
    },
    {
      "cell_type": "code",
      "metadata": {
        "id": "jm8RtodvIsDz"
      },
      "source": [
        "import numpy as np\n",
        "import pandas as pd\n",
        "import matplotlib.pyplot as plt"
      ],
      "execution_count": null,
      "outputs": []
    },
    {
      "cell_type": "code",
      "metadata": {
        "id": "hSd2GJR4Ivic"
      },
      "source": [
        "data = np.random.normal( 50., 10., 10000 )\n",
        "counts, bins = np.histogram( data, bins=20, range=(0.,100.) )"
      ],
      "execution_count": null,
      "outputs": []
    },
    {
      "cell_type": "code",
      "metadata": {
        "colab": {
          "base_uri": "https://localhost:8080/",
          "height": 70
        },
        "id": "UI9-rKajLZGV",
        "outputId": "5eeb1ea8-c306-4c46-d674-e66abff8a496"
      },
      "source": [
        "bin_centers = ( bins[ : -1 ] + bins[ 1 : ] ) / 2\n",
        "\n",
        "fig = plt.figure( figsize=(12,10) )\n",
        "plt.plot( bin_centers, counts, 'ko' )"
      ],
      "execution_count": null,
      "outputs": [
        {
          "output_type": "execute_result",
          "data": {
            "text/plain": [
              "[<matplotlib.lines.Line2D at 0x7fa551ffabd0>]"
            ]
          },
          "metadata": {},
          "execution_count": 3
        },
        {
          "output_type": "display_data",
          "data": {
            "image/png": "[encoded data removed]",
            "text/plain": [
              "<Figure size 864x720 with 1 Axes>"
            ]
          },
          "metadata": {
            "needs_background": "light"
          }
        }
      ]
    },
    {
      "cell_type": "code",
      "metadata": {
        "id": "VriDKAUJMj36"
      },
      "source": [
        "df = pd.DataFrame( { \"X\": bin_centers, \"Eventos\": counts } )\n",
        "df.to_csv( \"dados_gaussianos_exemplo.dat\", sep=\"\\t\", index=False )"
      ],
      "execution_count": null,
      "outputs": []
    },
    {
      "cell_type": "code",
      "metadata": {
        "id": "aVnfbGBpN5co"
      },
      "source": [
        ""
      ],
      "execution_count": null,
      "outputs": []
    }
  ]
}