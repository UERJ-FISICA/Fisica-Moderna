{
  "nbformat": 4,
  "nbformat_minor": 0,
  "metadata": {
    "colab": {
      "name": "Exemplo-Distribuição-Poisson.ipynb",
      "provenance": [],
      "collapsed_sections": [],
      "authorship_tag": "ABX9TyMEMY+QvRINTQTBx7RtlQ0j",
      "include_colab_link": true
    },
    "kernelspec": {
      "name": "python3",
      "display_name": "Python 3"
    },
    "language_info": {
      "name": "python"
    }
  },
  "cells": [
    {
      "cell_type": "markdown",
      "metadata": {
        "id": "view-in-github",
        "colab_type": "text"
      },
      "source": [
        "<a href=\"https://colab.research.google.com/github/UERJ-FISICA/Fisica-Moderna/blob/main/Exemplo_Distribui%C3%A7%C3%A3o_Poisson.ipynb\" target=\"_parent\"><img src=\"https://colab.research.google.com/assets/colab-badge.svg\" alt=\"Open In Colab\"/></a>"
      ]
    },
    {
      "cell_type": "code",
      "metadata": {
        "id": "qaWTZY0hu6FY"
      },
      "source": [
        "import numpy as np\n",
        "import pandas as pd\n",
        "import matplotlib.pyplot as plt\n",
        "from scipy.stats import poisson"
      ],
      "execution_count": 1,
      "outputs": []
    },
    {
      "cell_type": "code",
      "metadata": {
        "colab": {
          "base_uri": "https://localhost:8080/",
          "height": 618
        },
        "id": "edut9t3ZvN7Z",
        "outputId": "d0916ff6-2b9d-4b28-b3b0-7de4c18ff51b"
      },
      "source": [
        "mu = 5.\n",
        "print ( \"mu = {}\".format( mu ) )\n",
        "\n",
        "rv = poisson(mu)\n",
        "arr_ = rv.rvs( size=100 )\n",
        "print ( arr_ )\n",
        "mean_ = arr_.mean()\n",
        "sigma_ = np.sqrt( arr_.mean() )\n",
        "print ( \"mean = {}\".format( mean_ ) )\n",
        "print ( \"sigma = {}\".format( sigma_ ) )\n",
        "\n",
        "fig = plt.figure( figsize=(10,8) )\n",
        "counts, bins, _ = plt.hist( arr_, bins=20, range=(0,20) )"
      ],
      "execution_count": 2,
      "outputs": [
        {
          "output_type": "stream",
          "text": [
            "mu = 5.0\n",
            "[ 0  4  5  3  4  6  7  3  3  5  8  4  7  6  7  5  7  9  5  5  5  4  8  3\n",
            "  6  6  4  4  7  6  4  2  5  5  4  8  4  2 13  5  6  7  6  2  4  6  6  6\n",
            "  7  5  2  6  6  6  5  6  5  6  6  8  2  6  3 11  6  8  3  5  4  2  3  4\n",
            "  8  7  6  5  5  5  4  6  8  6  2  7  4  8  3  2  5  6  3  3  6  4  3  5\n",
            "  3  2  6  7]\n",
            "mean = 5.15\n",
            "sigma = 2.2693611435820435\n"
          ],
          "name": "stdout"
        },
        {
          "output_type": "display_data",
          "data": {
            "image/png": "[encoded data removed]",
            "text/plain": [
              "<Figure size 720x576 with 1 Axes>"
            ]
          },
          "metadata": {
            "tags": [],
            "needs_background": "light"
          }
        }
      ]
    },
    {
      "cell_type": "code",
      "metadata": {
        "colab": {
          "base_uri": "https://localhost:8080/",
          "height": 685
        },
        "id": "oAYK0zIdvcdv",
        "outputId": "cee6e02c-b7e5-466b-fc41-2c134923b23c"
      },
      "source": [
        "from scipy.optimize import curve_fit\n",
        "\n",
        "def Gaus( x, A, mu, sigma ):\n",
        "    return A * np.exp( -( ( x - mu ) / sigma ) ** 2 )\n",
        "\n",
        "bin_centers = ( bins[:-1] + bins[1:] ) / 2\n",
        "print ( bin_centers, bin_centers.size )\n",
        "fit_range = ( mean_ - 2 * sigma_, mean_ + 2 * sigma_)\n",
        "print ( fit_range )\n",
        "msk_range = ( ( bin_centers >= fit_range[0] ) & ( bin_centers <= fit_range[1] ) )\n",
        "popt_gaus, pcov_gaus = curve_fit( Gaus, bin_centers[ msk_range ], counts[ msk_range ], sigma=np.sqrt( counts[ msk_range ] ), p0=( 10., mean_, sigma_ ) )\n",
        "print ( popt_gaus )\n",
        "print ( pcov_gaus )\n",
        "\n",
        "fig = plt.figure( figsize=(10,8) )\n",
        "plt.errorbar( bin_centers, counts, yerr=np.sqrt( counts ), fmt='ko' )\n",
        "x_plot = np.linspace(fit_range[0],fit_range[1],100)\n",
        "plt.plot( x_plot, Gaus( x_plot, *popt_gaus ), '-r' )"
      ],
      "execution_count": 3,
      "outputs": [
        {
          "output_type": "stream",
          "text": [
            "[ 0.5  1.5  2.5  3.5  4.5  5.5  6.5  7.5  8.5  9.5 10.5 11.5 12.5 13.5\n",
            " 14.5 15.5 16.5 17.5 18.5 19.5] 20\n",
            "(0.6112777128359133, 9.688722287164087)\n",
            "[10.          5.15        2.26936114]\n",
            "[[inf inf inf]\n",
            " [inf inf inf]\n",
            " [inf inf inf]]\n"
          ],
          "name": "stdout"
        },
        {
          "output_type": "stream",
          "text": [
            "/usr/local/lib/python3.7/dist-packages/scipy/optimize/minpack.py:734: RuntimeWarning: divide by zero encountered in true_divide\n",
            "  transform = 1.0 / sigma\n",
            "/usr/local/lib/python3.7/dist-packages/scipy/optimize/minpack.py:808: OptimizeWarning: Covariance of the parameters could not be estimated\n",
            "  category=OptimizeWarning)\n"
          ],
          "name": "stderr"
        },
        {
          "output_type": "execute_result",
          "data": {
            "text/plain": [
              "[<matplotlib.lines.Line2D at 0x7fbe7cc78050>]"
            ]
          },
          "metadata": {
            "tags": []
          },
          "execution_count": 3
        },
        {
          "output_type": "display_data",
          "data": {
            "image/png": "[encoded data removed]",
            "text/plain": [
              "<Figure size 720x576 with 1 Axes>"
            ]
          },
          "metadata": {
            "tags": [],
            "needs_background": "light"
          }
        }
      ]
    },
    {
      "cell_type": "code",
      "metadata": {
        "id": "FmJdrr3Evd5-"
      },
      "source": [
        ""
      ],
      "execution_count": 3,
      "outputs": []
    }
  ]
}